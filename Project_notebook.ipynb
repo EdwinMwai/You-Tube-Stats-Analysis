{
 "cells": [
  {
   "cell_type": "markdown",
   "metadata": {},
   "source": [
    "# **Youtube earnings prediction project**\n",
    "---"
   ]
  },
  {
   "cell_type": "markdown",
   "metadata": {},
   "source": [
    "## **Problem Statement**\n",
    "\n",
    "The success of content creators on YouTube is often associated with various factors such as the number of views, engagement metrics, and the audience's demographics. This project seeks to develop a predictive model that estimates a YouTuber's earnings based on key performance indicators and other relevant factors. The goal is to provide content creators and stakeholders with a tool that offers insights into potential earnings, aiding in strategic decision-making and content optimization.\n",
    "\n",
    "---\n"
   ]
  },
  {
   "cell_type": "markdown",
   "metadata": {},
   "source": [
    "## **Main Objective**\n",
    "Develop a robust and accurate linear regression model to predict average YouTube earnings for content creators, leveraging key performance indicators and relevant factors, in order to empower content creators with actionable insights for optimizing their content strategy and maximizing revenue on the YouTube platform.\n",
    "\n",
    "---"
   ]
  },
  {
   "cell_type": "markdown",
   "metadata": {},
   "source": [
    "### Specific Objectives\n",
    "1. **Exploratory Data Analysis and Data Pre-Processing:** Perform EDA on the data to better understand the dataset. Clean and preprocess the dataset to handle missing values, outliers, and any other data inconsistencies.\n",
    "2. **Model Development:** Apply linear regression modeling techniques to establish a relationship between the chosen independent variables and YouTube earnings.\n",
    "3. **Feature Selection:** Identify and select the most significant independent variables that have a significant impact on earnings. \n",
    "4. **Assess Model Perfomance:** Estimate and Interprate the co-efficient of the significant predictor variables\n",
    "5. **Interpretation of Results:** Interpret the coefficients of the regression model to understand the relative importance of each independent variable in predicting YouTube earnings. Provide insights into the factors that most strongly influence earnings.\n",
    "\n",
    "---\n"
   ]
  },
  {
   "cell_type": "markdown",
   "metadata": {},
   "source": [
    "## **Details on the Data set**"
   ]
  },
  {
   "cell_type": "markdown",
   "metadata": {},
   "source": [
    " This meticulously curated dataset unveils the statistics of the most subscribed YouTube channels. A collection of YouTube giants, this dataset offers a perfect avenue to analyze and gain valuable insights from the luminaries of the platform. With comprehensive details on top creators' subscriber counts, video views, upload frequency, country of origin, earnings, and more.\n",
    "\n"
   ]
  },
  {
   "cell_type": "markdown",
   "metadata": {},
   "source": [
    "### **Description of columns:**\n",
    "---\n",
    "**rank:** Position of the YouTube channel based on the number of subscribers\n",
    "\n",
    "**Youtuber:** Name of the YouTube channel\n",
    "\n",
    "**subscribers:** Number of subscribers to the channel\n",
    "\n",
    "**video views:** Total views across all videos on the channel\n",
    "\n",
    "**category:** Category or niche of the channel\n",
    "\n",
    "**Title:** Title of the YouTube channel\n",
    "\n",
    "**uploads:** Total number of videos uploaded on the channel\n",
    "\n",
    "**Country:** Country where the YouTube channel originates\n",
    "\n",
    "**Abbreviation:** Abbreviation of the country\n",
    "\n",
    "**channel_type:** Type of the YouTube channel (e.g., individual, brand)\n",
    "\n",
    "**video_views_rank:** Ranking of the channel based on total video views\n",
    "\n",
    "**country_rank:** Ranking of the channel based on the number of subscribers within its country\n",
    "\n",
    "**channel_type_rank:** Ranking of the channel based on its type (individual or brand)\n",
    "\n",
    "**video_views_for_the_last_30_days:** Total video views in the last 30 days\n",
    "\n",
    "**lowest_monthly_earnings:** Lowest estimated monthly earnings from the channel\n",
    "\n",
    "**highest_monthly_earnings:** Highest estimated monthly earnings from the channel\n",
    "\n",
    "**lowest_yearly_earnings:** Lowest estimated yearly earnings from the channel\n",
    "\n",
    "**highest_yearly_earnings:** Highest estimated yearly earnings from the channel\n",
    "\n",
    "**subscribers_for_last_30_days:** Number of new subscribers gained in the last 30 days\n",
    "\n",
    "**created_year:** Year when the YouTube channel was created\n",
    "\n",
    "**created_month:** Month when the YouTube channel was created\n",
    "\n",
    "**created_date:** Exact date of the YouTube channel's creation\n",
    "\n",
    "**Gross tertiary education enrollment (%):** Percentage of the population enrolled in tertiary education in the country\n",
    "\n",
    "**Population:** Total population of the country\n",
    "\n",
    "**Unemployment rate:** Unemployment rate in the country\n",
    "\n",
    "**Urban_population:** Percentage of the population living in urban areas\n",
    "\n",
    "**Latitude:** Latitude coordinate of the country's location\n",
    "\n",
    "**Longitude:** Longitude coordinate of the country's location"
   ]
  },
  {
   "cell_type": "code",
   "execution_count": 147,
   "metadata": {},
   "outputs": [],
   "source": [
    "# Adding necessary libraries\n",
    "import pandas as pd\n",
    "import matplotlib.pyplot as plt\n",
    "import seaborn as sns\n",
    "import statsmodels.api as sm\n",
    "from statsmodels.formula.api import ols\n",
    "from statsmodels.stats.outliers_influence import variance_inflation_factor as VIF\n",
    "from sklearn.metrics import mean_absolute_error, mean_squared_error\n",
    "import numpy as np\n",
    "import scipy.stats as stats\n",
    "from statsmodels.stats.diagnostic import het_breuschpagan\n",
    "\n",
    "plt.style.use('ggplot')\n",
    "\n",
    "#ignoring future warnings\n",
    "import warnings\n",
    "\n",
    "warnings.simplefilter(action= 'ignore', category= FutureWarning)\n"
   ]
  },
  {
   "cell_type": "markdown",
   "metadata": {},
   "source": [
    "## **Exploratory Data Analysis EDA**"
   ]
  },
  {
   "cell_type": "code",
   "execution_count": 12,
   "metadata": {},
   "outputs": [],
   "source": [
    "df = pd.read_csv('Global YouTube Statistics (1).csv', encoding='latin-1', index_col=0)"
   ]
  },
  {
   "cell_type": "code",
   "execution_count": 3,
   "metadata": {},
   "outputs": [
    {
     "data": {
      "text/html": [
       "<div>\n",
       "<style scoped>\n",
       "    .dataframe tbody tr th:only-of-type {\n",
       "        vertical-align: middle;\n",
       "    }\n",
       "\n",
       "    .dataframe tbody tr th {\n",
       "        vertical-align: top;\n",
       "    }\n",
       "\n",
       "    .dataframe thead th {\n",
       "        text-align: right;\n",
       "    }\n",
       "</style>\n",
       "<table border=\"1\" class=\"dataframe\">\n",
       "  <thead>\n",
       "    <tr style=\"text-align: right;\">\n",
       "      <th></th>\n",
       "      <th>Youtuber</th>\n",
       "      <th>subscribers</th>\n",
       "      <th>video views</th>\n",
       "      <th>category</th>\n",
       "      <th>Title</th>\n",
       "      <th>uploads</th>\n",
       "      <th>Country</th>\n",
       "      <th>Abbreviation</th>\n",
       "      <th>channel_type</th>\n",
       "      <th>video_views_rank</th>\n",
       "      <th>...</th>\n",
       "      <th>subscribers_for_last_30_days</th>\n",
       "      <th>created_year</th>\n",
       "      <th>created_month</th>\n",
       "      <th>created_date</th>\n",
       "      <th>Gross tertiary education enrollment (%)</th>\n",
       "      <th>Population</th>\n",
       "      <th>Unemployment rate</th>\n",
       "      <th>Urban_population</th>\n",
       "      <th>Latitude</th>\n",
       "      <th>Longitude</th>\n",
       "    </tr>\n",
       "    <tr>\n",
       "      <th>rank</th>\n",
       "      <th></th>\n",
       "      <th></th>\n",
       "      <th></th>\n",
       "      <th></th>\n",
       "      <th></th>\n",
       "      <th></th>\n",
       "      <th></th>\n",
       "      <th></th>\n",
       "      <th></th>\n",
       "      <th></th>\n",
       "      <th></th>\n",
       "      <th></th>\n",
       "      <th></th>\n",
       "      <th></th>\n",
       "      <th></th>\n",
       "      <th></th>\n",
       "      <th></th>\n",
       "      <th></th>\n",
       "      <th></th>\n",
       "      <th></th>\n",
       "      <th></th>\n",
       "    </tr>\n",
       "  </thead>\n",
       "  <tbody>\n",
       "    <tr>\n",
       "      <th>1</th>\n",
       "      <td>T-Series</td>\n",
       "      <td>245000000</td>\n",
       "      <td>2.280000e+11</td>\n",
       "      <td>Music</td>\n",
       "      <td>T-Series</td>\n",
       "      <td>20082</td>\n",
       "      <td>India</td>\n",
       "      <td>IN</td>\n",
       "      <td>Music</td>\n",
       "      <td>1.0</td>\n",
       "      <td>...</td>\n",
       "      <td>2000000.0</td>\n",
       "      <td>2006.0</td>\n",
       "      <td>Mar</td>\n",
       "      <td>13.0</td>\n",
       "      <td>28.1</td>\n",
       "      <td>1.366418e+09</td>\n",
       "      <td>5.36</td>\n",
       "      <td>471031528.0</td>\n",
       "      <td>20.593684</td>\n",
       "      <td>78.962880</td>\n",
       "    </tr>\n",
       "    <tr>\n",
       "      <th>2</th>\n",
       "      <td>YouTube Movies</td>\n",
       "      <td>170000000</td>\n",
       "      <td>0.000000e+00</td>\n",
       "      <td>Film &amp; Animation</td>\n",
       "      <td>youtubemovies</td>\n",
       "      <td>1</td>\n",
       "      <td>United States</td>\n",
       "      <td>US</td>\n",
       "      <td>Games</td>\n",
       "      <td>4055159.0</td>\n",
       "      <td>...</td>\n",
       "      <td>NaN</td>\n",
       "      <td>2006.0</td>\n",
       "      <td>Mar</td>\n",
       "      <td>5.0</td>\n",
       "      <td>88.2</td>\n",
       "      <td>3.282395e+08</td>\n",
       "      <td>14.70</td>\n",
       "      <td>270663028.0</td>\n",
       "      <td>37.090240</td>\n",
       "      <td>-95.712891</td>\n",
       "    </tr>\n",
       "    <tr>\n",
       "      <th>3</th>\n",
       "      <td>MrBeast</td>\n",
       "      <td>166000000</td>\n",
       "      <td>2.836884e+10</td>\n",
       "      <td>Entertainment</td>\n",
       "      <td>MrBeast</td>\n",
       "      <td>741</td>\n",
       "      <td>United States</td>\n",
       "      <td>US</td>\n",
       "      <td>Entertainment</td>\n",
       "      <td>48.0</td>\n",
       "      <td>...</td>\n",
       "      <td>8000000.0</td>\n",
       "      <td>2012.0</td>\n",
       "      <td>Feb</td>\n",
       "      <td>20.0</td>\n",
       "      <td>88.2</td>\n",
       "      <td>3.282395e+08</td>\n",
       "      <td>14.70</td>\n",
       "      <td>270663028.0</td>\n",
       "      <td>37.090240</td>\n",
       "      <td>-95.712891</td>\n",
       "    </tr>\n",
       "    <tr>\n",
       "      <th>4</th>\n",
       "      <td>Cocomelon - Nursery Rhymes</td>\n",
       "      <td>162000000</td>\n",
       "      <td>1.640000e+11</td>\n",
       "      <td>Education</td>\n",
       "      <td>Cocomelon - Nursery Rhymes</td>\n",
       "      <td>966</td>\n",
       "      <td>United States</td>\n",
       "      <td>US</td>\n",
       "      <td>Education</td>\n",
       "      <td>2.0</td>\n",
       "      <td>...</td>\n",
       "      <td>1000000.0</td>\n",
       "      <td>2006.0</td>\n",
       "      <td>Sep</td>\n",
       "      <td>1.0</td>\n",
       "      <td>88.2</td>\n",
       "      <td>3.282395e+08</td>\n",
       "      <td>14.70</td>\n",
       "      <td>270663028.0</td>\n",
       "      <td>37.090240</td>\n",
       "      <td>-95.712891</td>\n",
       "    </tr>\n",
       "    <tr>\n",
       "      <th>5</th>\n",
       "      <td>SET India</td>\n",
       "      <td>159000000</td>\n",
       "      <td>1.480000e+11</td>\n",
       "      <td>Shows</td>\n",
       "      <td>SET India</td>\n",
       "      <td>116536</td>\n",
       "      <td>India</td>\n",
       "      <td>IN</td>\n",
       "      <td>Entertainment</td>\n",
       "      <td>3.0</td>\n",
       "      <td>...</td>\n",
       "      <td>1000000.0</td>\n",
       "      <td>2006.0</td>\n",
       "      <td>Sep</td>\n",
       "      <td>20.0</td>\n",
       "      <td>28.1</td>\n",
       "      <td>1.366418e+09</td>\n",
       "      <td>5.36</td>\n",
       "      <td>471031528.0</td>\n",
       "      <td>20.593684</td>\n",
       "      <td>78.962880</td>\n",
       "    </tr>\n",
       "  </tbody>\n",
       "</table>\n",
       "<p>5 rows × 27 columns</p>\n",
       "</div>"
      ],
      "text/plain": [
       "                        Youtuber  subscribers   video views          category  \\\n",
       "rank                                                                            \n",
       "1                       T-Series    245000000  2.280000e+11             Music   \n",
       "2                 YouTube Movies    170000000  0.000000e+00  Film & Animation   \n",
       "3                        MrBeast    166000000  2.836884e+10     Entertainment   \n",
       "4     Cocomelon - Nursery Rhymes    162000000  1.640000e+11         Education   \n",
       "5                      SET India    159000000  1.480000e+11             Shows   \n",
       "\n",
       "                           Title  uploads        Country Abbreviation  \\\n",
       "rank                                                                    \n",
       "1                       T-Series    20082          India           IN   \n",
       "2                  youtubemovies        1  United States           US   \n",
       "3                        MrBeast      741  United States           US   \n",
       "4     Cocomelon - Nursery Rhymes      966  United States           US   \n",
       "5                      SET India   116536          India           IN   \n",
       "\n",
       "       channel_type  video_views_rank  ...  subscribers_for_last_30_days  \\\n",
       "rank                                   ...                                 \n",
       "1             Music               1.0  ...                     2000000.0   \n",
       "2             Games         4055159.0  ...                           NaN   \n",
       "3     Entertainment              48.0  ...                     8000000.0   \n",
       "4         Education               2.0  ...                     1000000.0   \n",
       "5     Entertainment               3.0  ...                     1000000.0   \n",
       "\n",
       "      created_year  created_month  created_date  \\\n",
       "rank                                              \n",
       "1           2006.0            Mar          13.0   \n",
       "2           2006.0            Mar           5.0   \n",
       "3           2012.0            Feb          20.0   \n",
       "4           2006.0            Sep           1.0   \n",
       "5           2006.0            Sep          20.0   \n",
       "\n",
       "      Gross tertiary education enrollment (%)    Population  \\\n",
       "rank                                                          \n",
       "1                                        28.1  1.366418e+09   \n",
       "2                                        88.2  3.282395e+08   \n",
       "3                                        88.2  3.282395e+08   \n",
       "4                                        88.2  3.282395e+08   \n",
       "5                                        28.1  1.366418e+09   \n",
       "\n",
       "      Unemployment rate  Urban_population   Latitude  Longitude  \n",
       "rank                                                             \n",
       "1                  5.36       471031528.0  20.593684  78.962880  \n",
       "2                 14.70       270663028.0  37.090240 -95.712891  \n",
       "3                 14.70       270663028.0  37.090240 -95.712891  \n",
       "4                 14.70       270663028.0  37.090240 -95.712891  \n",
       "5                  5.36       471031528.0  20.593684  78.962880  \n",
       "\n",
       "[5 rows x 27 columns]"
      ]
     },
     "execution_count": 3,
     "metadata": {},
     "output_type": "execute_result"
    }
   ],
   "source": [
    "df.head()"
   ]
  },
  {
   "cell_type": "code",
   "execution_count": 4,
   "metadata": {},
   "outputs": [
    {
     "data": {
      "text/html": [
       "<div>\n",
       "<style scoped>\n",
       "    .dataframe tbody tr th:only-of-type {\n",
       "        vertical-align: middle;\n",
       "    }\n",
       "\n",
       "    .dataframe tbody tr th {\n",
       "        vertical-align: top;\n",
       "    }\n",
       "\n",
       "    .dataframe thead th {\n",
       "        text-align: right;\n",
       "    }\n",
       "</style>\n",
       "<table border=\"1\" class=\"dataframe\">\n",
       "  <thead>\n",
       "    <tr style=\"text-align: right;\">\n",
       "      <th></th>\n",
       "      <th>Youtuber</th>\n",
       "      <th>subscribers</th>\n",
       "      <th>video views</th>\n",
       "      <th>category</th>\n",
       "      <th>Title</th>\n",
       "      <th>uploads</th>\n",
       "      <th>Country</th>\n",
       "      <th>Abbreviation</th>\n",
       "      <th>channel_type</th>\n",
       "      <th>video_views_rank</th>\n",
       "      <th>...</th>\n",
       "      <th>subscribers_for_last_30_days</th>\n",
       "      <th>created_year</th>\n",
       "      <th>created_month</th>\n",
       "      <th>created_date</th>\n",
       "      <th>Gross tertiary education enrollment (%)</th>\n",
       "      <th>Population</th>\n",
       "      <th>Unemployment rate</th>\n",
       "      <th>Urban_population</th>\n",
       "      <th>Latitude</th>\n",
       "      <th>Longitude</th>\n",
       "    </tr>\n",
       "    <tr>\n",
       "      <th>rank</th>\n",
       "      <th></th>\n",
       "      <th></th>\n",
       "      <th></th>\n",
       "      <th></th>\n",
       "      <th></th>\n",
       "      <th></th>\n",
       "      <th></th>\n",
       "      <th></th>\n",
       "      <th></th>\n",
       "      <th></th>\n",
       "      <th></th>\n",
       "      <th></th>\n",
       "      <th></th>\n",
       "      <th></th>\n",
       "      <th></th>\n",
       "      <th></th>\n",
       "      <th></th>\n",
       "      <th></th>\n",
       "      <th></th>\n",
       "      <th></th>\n",
       "      <th></th>\n",
       "    </tr>\n",
       "  </thead>\n",
       "  <tbody>\n",
       "    <tr>\n",
       "      <th>991</th>\n",
       "      <td>Natan por Aï¿</td>\n",
       "      <td>12300000</td>\n",
       "      <td>9.029610e+09</td>\n",
       "      <td>Sports</td>\n",
       "      <td>Natan por Aï¿</td>\n",
       "      <td>1200</td>\n",
       "      <td>Brazil</td>\n",
       "      <td>BR</td>\n",
       "      <td>Entertainment</td>\n",
       "      <td>525.0</td>\n",
       "      <td>...</td>\n",
       "      <td>700000.0</td>\n",
       "      <td>2017.0</td>\n",
       "      <td>Feb</td>\n",
       "      <td>12.0</td>\n",
       "      <td>51.3</td>\n",
       "      <td>2.125594e+08</td>\n",
       "      <td>12.08</td>\n",
       "      <td>183241641.0</td>\n",
       "      <td>-14.235004</td>\n",
       "      <td>-51.925280</td>\n",
       "    </tr>\n",
       "    <tr>\n",
       "      <th>992</th>\n",
       "      <td>Free Fire India Official</td>\n",
       "      <td>12300000</td>\n",
       "      <td>1.674410e+09</td>\n",
       "      <td>People &amp; Blogs</td>\n",
       "      <td>Free Fire India Official</td>\n",
       "      <td>1500</td>\n",
       "      <td>India</td>\n",
       "      <td>IN</td>\n",
       "      <td>Games</td>\n",
       "      <td>6141.0</td>\n",
       "      <td>...</td>\n",
       "      <td>300000.0</td>\n",
       "      <td>2018.0</td>\n",
       "      <td>Sep</td>\n",
       "      <td>14.0</td>\n",
       "      <td>28.1</td>\n",
       "      <td>1.366418e+09</td>\n",
       "      <td>5.36</td>\n",
       "      <td>471031528.0</td>\n",
       "      <td>20.593684</td>\n",
       "      <td>78.962880</td>\n",
       "    </tr>\n",
       "    <tr>\n",
       "      <th>993</th>\n",
       "      <td>Panda</td>\n",
       "      <td>12300000</td>\n",
       "      <td>2.214684e+09</td>\n",
       "      <td>NaN</td>\n",
       "      <td>HybridPanda</td>\n",
       "      <td>2452</td>\n",
       "      <td>United Kingdom</td>\n",
       "      <td>GB</td>\n",
       "      <td>Games</td>\n",
       "      <td>129005.0</td>\n",
       "      <td>...</td>\n",
       "      <td>1000.0</td>\n",
       "      <td>2006.0</td>\n",
       "      <td>Sep</td>\n",
       "      <td>11.0</td>\n",
       "      <td>60.0</td>\n",
       "      <td>6.683440e+07</td>\n",
       "      <td>3.85</td>\n",
       "      <td>55908316.0</td>\n",
       "      <td>55.378051</td>\n",
       "      <td>-3.435973</td>\n",
       "    </tr>\n",
       "    <tr>\n",
       "      <th>994</th>\n",
       "      <td>RobTopGames</td>\n",
       "      <td>12300000</td>\n",
       "      <td>3.741235e+08</td>\n",
       "      <td>Gaming</td>\n",
       "      <td>RobTopGames</td>\n",
       "      <td>39</td>\n",
       "      <td>Sweden</td>\n",
       "      <td>SE</td>\n",
       "      <td>Games</td>\n",
       "      <td>35112.0</td>\n",
       "      <td>...</td>\n",
       "      <td>100000.0</td>\n",
       "      <td>2012.0</td>\n",
       "      <td>May</td>\n",
       "      <td>9.0</td>\n",
       "      <td>67.0</td>\n",
       "      <td>1.028545e+07</td>\n",
       "      <td>6.48</td>\n",
       "      <td>9021165.0</td>\n",
       "      <td>60.128161</td>\n",
       "      <td>18.643501</td>\n",
       "    </tr>\n",
       "    <tr>\n",
       "      <th>995</th>\n",
       "      <td>Make Joke Of</td>\n",
       "      <td>12300000</td>\n",
       "      <td>2.129774e+09</td>\n",
       "      <td>Comedy</td>\n",
       "      <td>Make Joke Of</td>\n",
       "      <td>62</td>\n",
       "      <td>India</td>\n",
       "      <td>IN</td>\n",
       "      <td>Comedy</td>\n",
       "      <td>4568.0</td>\n",
       "      <td>...</td>\n",
       "      <td>100000.0</td>\n",
       "      <td>2017.0</td>\n",
       "      <td>Aug</td>\n",
       "      <td>1.0</td>\n",
       "      <td>28.1</td>\n",
       "      <td>1.366418e+09</td>\n",
       "      <td>5.36</td>\n",
       "      <td>471031528.0</td>\n",
       "      <td>20.593684</td>\n",
       "      <td>78.962880</td>\n",
       "    </tr>\n",
       "  </tbody>\n",
       "</table>\n",
       "<p>5 rows × 27 columns</p>\n",
       "</div>"
      ],
      "text/plain": [
       "                      Youtuber  subscribers   video views        category  \\\n",
       "rank                                                                        \n",
       "991              Natan por Aï¿     12300000  9.029610e+09          Sports   \n",
       "992   Free Fire India Official     12300000  1.674410e+09  People & Blogs   \n",
       "993                      Panda     12300000  2.214684e+09             NaN   \n",
       "994                RobTopGames     12300000  3.741235e+08          Gaming   \n",
       "995               Make Joke Of     12300000  2.129774e+09          Comedy   \n",
       "\n",
       "                         Title  uploads         Country Abbreviation  \\\n",
       "rank                                                                   \n",
       "991              Natan por Aï¿     1200          Brazil           BR   \n",
       "992   Free Fire India Official     1500           India           IN   \n",
       "993                HybridPanda     2452  United Kingdom           GB   \n",
       "994                RobTopGames       39          Sweden           SE   \n",
       "995               Make Joke Of       62           India           IN   \n",
       "\n",
       "       channel_type  video_views_rank  ...  subscribers_for_last_30_days  \\\n",
       "rank                                   ...                                 \n",
       "991   Entertainment             525.0  ...                      700000.0   \n",
       "992           Games            6141.0  ...                      300000.0   \n",
       "993           Games          129005.0  ...                        1000.0   \n",
       "994           Games           35112.0  ...                      100000.0   \n",
       "995          Comedy            4568.0  ...                      100000.0   \n",
       "\n",
       "      created_year  created_month  created_date  \\\n",
       "rank                                              \n",
       "991         2017.0            Feb          12.0   \n",
       "992         2018.0            Sep          14.0   \n",
       "993         2006.0            Sep          11.0   \n",
       "994         2012.0            May           9.0   \n",
       "995         2017.0            Aug           1.0   \n",
       "\n",
       "      Gross tertiary education enrollment (%)    Population  \\\n",
       "rank                                                          \n",
       "991                                      51.3  2.125594e+08   \n",
       "992                                      28.1  1.366418e+09   \n",
       "993                                      60.0  6.683440e+07   \n",
       "994                                      67.0  1.028545e+07   \n",
       "995                                      28.1  1.366418e+09   \n",
       "\n",
       "      Unemployment rate  Urban_population   Latitude  Longitude  \n",
       "rank                                                             \n",
       "991               12.08       183241641.0 -14.235004 -51.925280  \n",
       "992                5.36       471031528.0  20.593684  78.962880  \n",
       "993                3.85        55908316.0  55.378051  -3.435973  \n",
       "994                6.48         9021165.0  60.128161  18.643501  \n",
       "995                5.36       471031528.0  20.593684  78.962880  \n",
       "\n",
       "[5 rows x 27 columns]"
      ]
     },
     "execution_count": 4,
     "metadata": {},
     "output_type": "execute_result"
    }
   ],
   "source": [
    "df.tail()"
   ]
  },
  {
   "cell_type": "code",
   "execution_count": 5,
   "metadata": {},
   "outputs": [
    {
     "data": {
      "text/html": [
       "<div>\n",
       "<style scoped>\n",
       "    .dataframe tbody tr th:only-of-type {\n",
       "        vertical-align: middle;\n",
       "    }\n",
       "\n",
       "    .dataframe tbody tr th {\n",
       "        vertical-align: top;\n",
       "    }\n",
       "\n",
       "    .dataframe thead th {\n",
       "        text-align: right;\n",
       "    }\n",
       "</style>\n",
       "<table border=\"1\" class=\"dataframe\">\n",
       "  <thead>\n",
       "    <tr style=\"text-align: right;\">\n",
       "      <th></th>\n",
       "      <th>count</th>\n",
       "      <th>mean</th>\n",
       "      <th>std</th>\n",
       "      <th>min</th>\n",
       "      <th>25%</th>\n",
       "      <th>50%</th>\n",
       "      <th>75%</th>\n",
       "      <th>max</th>\n",
       "    </tr>\n",
       "  </thead>\n",
       "  <tbody>\n",
       "    <tr>\n",
       "      <th>subscribers</th>\n",
       "      <td>995.0</td>\n",
       "      <td>2.298241e+07</td>\n",
       "      <td>1.752611e+07</td>\n",
       "      <td>1.230000e+07</td>\n",
       "      <td>1.450000e+07</td>\n",
       "      <td>1.770000e+07</td>\n",
       "      <td>2.460000e+07</td>\n",
       "      <td>2.450000e+08</td>\n",
       "    </tr>\n",
       "    <tr>\n",
       "      <th>video views</th>\n",
       "      <td>995.0</td>\n",
       "      <td>1.103954e+10</td>\n",
       "      <td>1.411084e+10</td>\n",
       "      <td>0.000000e+00</td>\n",
       "      <td>4.288145e+09</td>\n",
       "      <td>7.760820e+09</td>\n",
       "      <td>1.355470e+10</td>\n",
       "      <td>2.280000e+11</td>\n",
       "    </tr>\n",
       "    <tr>\n",
       "      <th>uploads</th>\n",
       "      <td>995.0</td>\n",
       "      <td>9.187126e+03</td>\n",
       "      <td>3.415135e+04</td>\n",
       "      <td>0.000000e+00</td>\n",
       "      <td>1.945000e+02</td>\n",
       "      <td>7.290000e+02</td>\n",
       "      <td>2.667500e+03</td>\n",
       "      <td>3.013080e+05</td>\n",
       "    </tr>\n",
       "    <tr>\n",
       "      <th>video_views_rank</th>\n",
       "      <td>994.0</td>\n",
       "      <td>5.542489e+05</td>\n",
       "      <td>1.362782e+06</td>\n",
       "      <td>1.000000e+00</td>\n",
       "      <td>3.230000e+02</td>\n",
       "      <td>9.155000e+02</td>\n",
       "      <td>3.584500e+03</td>\n",
       "      <td>4.057944e+06</td>\n",
       "    </tr>\n",
       "    <tr>\n",
       "      <th>country_rank</th>\n",
       "      <td>879.0</td>\n",
       "      <td>3.860535e+02</td>\n",
       "      <td>1.232245e+03</td>\n",
       "      <td>1.000000e+00</td>\n",
       "      <td>1.100000e+01</td>\n",
       "      <td>5.100000e+01</td>\n",
       "      <td>1.230000e+02</td>\n",
       "      <td>7.741000e+03</td>\n",
       "    </tr>\n",
       "    <tr>\n",
       "      <th>channel_type_rank</th>\n",
       "      <td>962.0</td>\n",
       "      <td>7.457193e+02</td>\n",
       "      <td>1.944387e+03</td>\n",
       "      <td>1.000000e+00</td>\n",
       "      <td>2.700000e+01</td>\n",
       "      <td>6.550000e+01</td>\n",
       "      <td>1.397500e+02</td>\n",
       "      <td>7.741000e+03</td>\n",
       "    </tr>\n",
       "    <tr>\n",
       "      <th>video_views_for_the_last_30_days</th>\n",
       "      <td>939.0</td>\n",
       "      <td>1.756103e+08</td>\n",
       "      <td>4.163782e+08</td>\n",
       "      <td>1.000000e+00</td>\n",
       "      <td>2.013750e+07</td>\n",
       "      <td>6.408500e+07</td>\n",
       "      <td>1.688265e+08</td>\n",
       "      <td>6.589000e+09</td>\n",
       "    </tr>\n",
       "    <tr>\n",
       "      <th>lowest_monthly_earnings</th>\n",
       "      <td>995.0</td>\n",
       "      <td>3.688615e+04</td>\n",
       "      <td>7.185872e+04</td>\n",
       "      <td>0.000000e+00</td>\n",
       "      <td>2.700000e+03</td>\n",
       "      <td>1.330000e+04</td>\n",
       "      <td>3.790000e+04</td>\n",
       "      <td>8.509000e+05</td>\n",
       "    </tr>\n",
       "    <tr>\n",
       "      <th>highest_monthly_earnings</th>\n",
       "      <td>995.0</td>\n",
       "      <td>5.898078e+05</td>\n",
       "      <td>1.148622e+06</td>\n",
       "      <td>0.000000e+00</td>\n",
       "      <td>4.350000e+04</td>\n",
       "      <td>2.127000e+05</td>\n",
       "      <td>6.068000e+05</td>\n",
       "      <td>1.360000e+07</td>\n",
       "    </tr>\n",
       "    <tr>\n",
       "      <th>lowest_yearly_earnings</th>\n",
       "      <td>995.0</td>\n",
       "      <td>4.422574e+05</td>\n",
       "      <td>8.612161e+05</td>\n",
       "      <td>0.000000e+00</td>\n",
       "      <td>3.265000e+04</td>\n",
       "      <td>1.595000e+05</td>\n",
       "      <td>4.551000e+05</td>\n",
       "      <td>1.020000e+07</td>\n",
       "    </tr>\n",
       "    <tr>\n",
       "      <th>highest_yearly_earnings</th>\n",
       "      <td>995.0</td>\n",
       "      <td>7.081814e+06</td>\n",
       "      <td>1.379704e+07</td>\n",
       "      <td>0.000000e+00</td>\n",
       "      <td>5.217500e+05</td>\n",
       "      <td>2.600000e+06</td>\n",
       "      <td>7.300000e+06</td>\n",
       "      <td>1.634000e+08</td>\n",
       "    </tr>\n",
       "    <tr>\n",
       "      <th>subscribers_for_last_30_days</th>\n",
       "      <td>658.0</td>\n",
       "      <td>3.490791e+05</td>\n",
       "      <td>6.143554e+05</td>\n",
       "      <td>1.000000e+00</td>\n",
       "      <td>1.000000e+05</td>\n",
       "      <td>2.000000e+05</td>\n",
       "      <td>4.000000e+05</td>\n",
       "      <td>8.000000e+06</td>\n",
       "    </tr>\n",
       "    <tr>\n",
       "      <th>created_year</th>\n",
       "      <td>990.0</td>\n",
       "      <td>2.012630e+03</td>\n",
       "      <td>4.512503e+00</td>\n",
       "      <td>1.970000e+03</td>\n",
       "      <td>2.009000e+03</td>\n",
       "      <td>2.013000e+03</td>\n",
       "      <td>2.016000e+03</td>\n",
       "      <td>2.022000e+03</td>\n",
       "    </tr>\n",
       "    <tr>\n",
       "      <th>created_date</th>\n",
       "      <td>990.0</td>\n",
       "      <td>1.574646e+01</td>\n",
       "      <td>8.777520e+00</td>\n",
       "      <td>1.000000e+00</td>\n",
       "      <td>8.000000e+00</td>\n",
       "      <td>1.600000e+01</td>\n",
       "      <td>2.300000e+01</td>\n",
       "      <td>3.100000e+01</td>\n",
       "    </tr>\n",
       "    <tr>\n",
       "      <th>Gross tertiary education enrollment (%)</th>\n",
       "      <td>872.0</td>\n",
       "      <td>6.362775e+01</td>\n",
       "      <td>2.610689e+01</td>\n",
       "      <td>7.600000e+00</td>\n",
       "      <td>3.630000e+01</td>\n",
       "      <td>6.800000e+01</td>\n",
       "      <td>8.820000e+01</td>\n",
       "      <td>1.131000e+02</td>\n",
       "    </tr>\n",
       "    <tr>\n",
       "      <th>Population</th>\n",
       "      <td>872.0</td>\n",
       "      <td>4.303873e+08</td>\n",
       "      <td>4.727947e+08</td>\n",
       "      <td>2.025060e+05</td>\n",
       "      <td>8.335541e+07</td>\n",
       "      <td>3.282395e+08</td>\n",
       "      <td>3.282395e+08</td>\n",
       "      <td>1.397715e+09</td>\n",
       "    </tr>\n",
       "    <tr>\n",
       "      <th>Unemployment rate</th>\n",
       "      <td>872.0</td>\n",
       "      <td>9.279278e+00</td>\n",
       "      <td>4.888354e+00</td>\n",
       "      <td>7.500000e-01</td>\n",
       "      <td>5.270000e+00</td>\n",
       "      <td>9.365000e+00</td>\n",
       "      <td>1.470000e+01</td>\n",
       "      <td>1.472000e+01</td>\n",
       "    </tr>\n",
       "    <tr>\n",
       "      <th>Urban_population</th>\n",
       "      <td>872.0</td>\n",
       "      <td>2.242150e+08</td>\n",
       "      <td>1.546874e+08</td>\n",
       "      <td>3.558800e+04</td>\n",
       "      <td>5.590832e+07</td>\n",
       "      <td>2.706630e+08</td>\n",
       "      <td>2.706630e+08</td>\n",
       "      <td>8.429340e+08</td>\n",
       "    </tr>\n",
       "    <tr>\n",
       "      <th>Latitude</th>\n",
       "      <td>872.0</td>\n",
       "      <td>2.663278e+01</td>\n",
       "      <td>2.056053e+01</td>\n",
       "      <td>-3.841610e+01</td>\n",
       "      <td>2.059368e+01</td>\n",
       "      <td>3.709024e+01</td>\n",
       "      <td>3.709024e+01</td>\n",
       "      <td>6.192411e+01</td>\n",
       "    </tr>\n",
       "    <tr>\n",
       "      <th>Longitude</th>\n",
       "      <td>872.0</td>\n",
       "      <td>-1.412815e+01</td>\n",
       "      <td>8.476081e+01</td>\n",
       "      <td>-1.721046e+02</td>\n",
       "      <td>-9.571289e+01</td>\n",
       "      <td>-5.192528e+01</td>\n",
       "      <td>7.896288e+01</td>\n",
       "      <td>1.382529e+02</td>\n",
       "    </tr>\n",
       "  </tbody>\n",
       "</table>\n",
       "</div>"
      ],
      "text/plain": [
       "                                         count          mean           std  \\\n",
       "subscribers                              995.0  2.298241e+07  1.752611e+07   \n",
       "video views                              995.0  1.103954e+10  1.411084e+10   \n",
       "uploads                                  995.0  9.187126e+03  3.415135e+04   \n",
       "video_views_rank                         994.0  5.542489e+05  1.362782e+06   \n",
       "country_rank                             879.0  3.860535e+02  1.232245e+03   \n",
       "channel_type_rank                        962.0  7.457193e+02  1.944387e+03   \n",
       "video_views_for_the_last_30_days         939.0  1.756103e+08  4.163782e+08   \n",
       "lowest_monthly_earnings                  995.0  3.688615e+04  7.185872e+04   \n",
       "highest_monthly_earnings                 995.0  5.898078e+05  1.148622e+06   \n",
       "lowest_yearly_earnings                   995.0  4.422574e+05  8.612161e+05   \n",
       "highest_yearly_earnings                  995.0  7.081814e+06  1.379704e+07   \n",
       "subscribers_for_last_30_days             658.0  3.490791e+05  6.143554e+05   \n",
       "created_year                             990.0  2.012630e+03  4.512503e+00   \n",
       "created_date                             990.0  1.574646e+01  8.777520e+00   \n",
       "Gross tertiary education enrollment (%)  872.0  6.362775e+01  2.610689e+01   \n",
       "Population                               872.0  4.303873e+08  4.727947e+08   \n",
       "Unemployment rate                        872.0  9.279278e+00  4.888354e+00   \n",
       "Urban_population                         872.0  2.242150e+08  1.546874e+08   \n",
       "Latitude                                 872.0  2.663278e+01  2.056053e+01   \n",
       "Longitude                                872.0 -1.412815e+01  8.476081e+01   \n",
       "\n",
       "                                                  min           25%  \\\n",
       "subscribers                              1.230000e+07  1.450000e+07   \n",
       "video views                              0.000000e+00  4.288145e+09   \n",
       "uploads                                  0.000000e+00  1.945000e+02   \n",
       "video_views_rank                         1.000000e+00  3.230000e+02   \n",
       "country_rank                             1.000000e+00  1.100000e+01   \n",
       "channel_type_rank                        1.000000e+00  2.700000e+01   \n",
       "video_views_for_the_last_30_days         1.000000e+00  2.013750e+07   \n",
       "lowest_monthly_earnings                  0.000000e+00  2.700000e+03   \n",
       "highest_monthly_earnings                 0.000000e+00  4.350000e+04   \n",
       "lowest_yearly_earnings                   0.000000e+00  3.265000e+04   \n",
       "highest_yearly_earnings                  0.000000e+00  5.217500e+05   \n",
       "subscribers_for_last_30_days             1.000000e+00  1.000000e+05   \n",
       "created_year                             1.970000e+03  2.009000e+03   \n",
       "created_date                             1.000000e+00  8.000000e+00   \n",
       "Gross tertiary education enrollment (%)  7.600000e+00  3.630000e+01   \n",
       "Population                               2.025060e+05  8.335541e+07   \n",
       "Unemployment rate                        7.500000e-01  5.270000e+00   \n",
       "Urban_population                         3.558800e+04  5.590832e+07   \n",
       "Latitude                                -3.841610e+01  2.059368e+01   \n",
       "Longitude                               -1.721046e+02 -9.571289e+01   \n",
       "\n",
       "                                                  50%           75%  \\\n",
       "subscribers                              1.770000e+07  2.460000e+07   \n",
       "video views                              7.760820e+09  1.355470e+10   \n",
       "uploads                                  7.290000e+02  2.667500e+03   \n",
       "video_views_rank                         9.155000e+02  3.584500e+03   \n",
       "country_rank                             5.100000e+01  1.230000e+02   \n",
       "channel_type_rank                        6.550000e+01  1.397500e+02   \n",
       "video_views_for_the_last_30_days         6.408500e+07  1.688265e+08   \n",
       "lowest_monthly_earnings                  1.330000e+04  3.790000e+04   \n",
       "highest_monthly_earnings                 2.127000e+05  6.068000e+05   \n",
       "lowest_yearly_earnings                   1.595000e+05  4.551000e+05   \n",
       "highest_yearly_earnings                  2.600000e+06  7.300000e+06   \n",
       "subscribers_for_last_30_days             2.000000e+05  4.000000e+05   \n",
       "created_year                             2.013000e+03  2.016000e+03   \n",
       "created_date                             1.600000e+01  2.300000e+01   \n",
       "Gross tertiary education enrollment (%)  6.800000e+01  8.820000e+01   \n",
       "Population                               3.282395e+08  3.282395e+08   \n",
       "Unemployment rate                        9.365000e+00  1.470000e+01   \n",
       "Urban_population                         2.706630e+08  2.706630e+08   \n",
       "Latitude                                 3.709024e+01  3.709024e+01   \n",
       "Longitude                               -5.192528e+01  7.896288e+01   \n",
       "\n",
       "                                                  max  \n",
       "subscribers                              2.450000e+08  \n",
       "video views                              2.280000e+11  \n",
       "uploads                                  3.013080e+05  \n",
       "video_views_rank                         4.057944e+06  \n",
       "country_rank                             7.741000e+03  \n",
       "channel_type_rank                        7.741000e+03  \n",
       "video_views_for_the_last_30_days         6.589000e+09  \n",
       "lowest_monthly_earnings                  8.509000e+05  \n",
       "highest_monthly_earnings                 1.360000e+07  \n",
       "lowest_yearly_earnings                   1.020000e+07  \n",
       "highest_yearly_earnings                  1.634000e+08  \n",
       "subscribers_for_last_30_days             8.000000e+06  \n",
       "created_year                             2.022000e+03  \n",
       "created_date                             3.100000e+01  \n",
       "Gross tertiary education enrollment (%)  1.131000e+02  \n",
       "Population                               1.397715e+09  \n",
       "Unemployment rate                        1.472000e+01  \n",
       "Urban_population                         8.429340e+08  \n",
       "Latitude                                 6.192411e+01  \n",
       "Longitude                                1.382529e+02  "
      ]
     },
     "execution_count": 5,
     "metadata": {},
     "output_type": "execute_result"
    }
   ],
   "source": [
    "df.describe().T"
   ]
  },
  {
   "cell_type": "code",
   "execution_count": 6,
   "metadata": {},
   "outputs": [
    {
     "data": {
      "text/plain": [
       "(995, 27)"
      ]
     },
     "execution_count": 6,
     "metadata": {},
     "output_type": "execute_result"
    }
   ],
   "source": [
    "df.shape"
   ]
  },
  {
   "cell_type": "code",
   "execution_count": 7,
   "metadata": {},
   "outputs": [
    {
     "name": "stdout",
     "output_type": "stream",
     "text": [
      "<class 'pandas.core.frame.DataFrame'>\n",
      "Index: 995 entries, 1 to 995\n",
      "Data columns (total 27 columns):\n",
      " #   Column                                   Non-Null Count  Dtype  \n",
      "---  ------                                   --------------  -----  \n",
      " 0   Youtuber                                 995 non-null    object \n",
      " 1   subscribers                              995 non-null    int64  \n",
      " 2   video views                              995 non-null    float64\n",
      " 3   category                                 949 non-null    object \n",
      " 4   Title                                    995 non-null    object \n",
      " 5   uploads                                  995 non-null    int64  \n",
      " 6   Country                                  873 non-null    object \n",
      " 7   Abbreviation                             873 non-null    object \n",
      " 8   channel_type                             965 non-null    object \n",
      " 9   video_views_rank                         994 non-null    float64\n",
      " 10  country_rank                             879 non-null    float64\n",
      " 11  channel_type_rank                        962 non-null    float64\n",
      " 12  video_views_for_the_last_30_days         939 non-null    float64\n",
      " 13  lowest_monthly_earnings                  995 non-null    float64\n",
      " 14  highest_monthly_earnings                 995 non-null    float64\n",
      " 15  lowest_yearly_earnings                   995 non-null    float64\n",
      " 16  highest_yearly_earnings                  995 non-null    float64\n",
      " 17  subscribers_for_last_30_days             658 non-null    float64\n",
      " 18  created_year                             990 non-null    float64\n",
      " 19  created_month                            990 non-null    object \n",
      " 20  created_date                             990 non-null    float64\n",
      " 21  Gross tertiary education enrollment (%)  872 non-null    float64\n",
      " 22  Population                               872 non-null    float64\n",
      " 23  Unemployment rate                        872 non-null    float64\n",
      " 24  Urban_population                         872 non-null    float64\n",
      " 25  Latitude                                 872 non-null    float64\n",
      " 26  Longitude                                872 non-null    float64\n",
      "dtypes: float64(18), int64(2), object(7)\n",
      "memory usage: 217.7+ KB\n"
     ]
    }
   ],
   "source": [
    "df.info()"
   ]
  },
  {
   "cell_type": "code",
   "execution_count": 8,
   "metadata": {},
   "outputs": [
    {
     "data": {
      "text/plain": [
       "Youtuber                                     0\n",
       "subscribers                                  0\n",
       "video views                                  0\n",
       "category                                    46\n",
       "Title                                        0\n",
       "uploads                                      0\n",
       "Country                                    122\n",
       "Abbreviation                               122\n",
       "channel_type                                30\n",
       "video_views_rank                             1\n",
       "country_rank                               116\n",
       "channel_type_rank                           33\n",
       "video_views_for_the_last_30_days            56\n",
       "lowest_monthly_earnings                      0\n",
       "highest_monthly_earnings                     0\n",
       "lowest_yearly_earnings                       0\n",
       "highest_yearly_earnings                      0\n",
       "subscribers_for_last_30_days               337\n",
       "created_year                                 5\n",
       "created_month                                5\n",
       "created_date                                 5\n",
       "Gross tertiary education enrollment (%)    123\n",
       "Population                                 123\n",
       "Unemployment rate                          123\n",
       "Urban_population                           123\n",
       "Latitude                                   123\n",
       "Longitude                                  123\n",
       "dtype: int64"
      ]
     },
     "execution_count": 8,
     "metadata": {},
     "output_type": "execute_result"
    }
   ],
   "source": [
    "# checking null values\n",
    "df.isnull().sum()"
   ]
  },
  {
   "cell_type": "code",
   "execution_count": 9,
   "metadata": {},
   "outputs": [
    {
     "data": {
      "text/plain": [
       "Index(['Youtuber', 'subscribers', 'video views', 'category', 'Title',\n",
       "       'uploads', 'Country', 'Abbreviation', 'channel_type',\n",
       "       'video_views_rank', 'country_rank', 'channel_type_rank',\n",
       "       'video_views_for_the_last_30_days', 'lowest_monthly_earnings',\n",
       "       'highest_monthly_earnings', 'lowest_yearly_earnings',\n",
       "       'highest_yearly_earnings', 'subscribers_for_last_30_days',\n",
       "       'created_year', 'created_month', 'created_date',\n",
       "       'Gross tertiary education enrollment (%)', 'Population',\n",
       "       'Unemployment rate', 'Urban_population', 'Latitude', 'Longitude'],\n",
       "      dtype='object')"
      ]
     },
     "execution_count": 9,
     "metadata": {},
     "output_type": "execute_result"
    }
   ],
   "source": [
    "df.columns"
   ]
  },
  {
   "cell_type": "markdown",
   "metadata": {},
   "source": [
    "## Data Pre-Processing"
   ]
  },
  {
   "cell_type": "code",
   "execution_count": 13,
   "metadata": {},
   "outputs": [
    {
     "data": {
      "text/html": [
       "<div>\n",
       "<style scoped>\n",
       "    .dataframe tbody tr th:only-of-type {\n",
       "        vertical-align: middle;\n",
       "    }\n",
       "\n",
       "    .dataframe tbody tr th {\n",
       "        vertical-align: top;\n",
       "    }\n",
       "\n",
       "    .dataframe thead th {\n",
       "        text-align: right;\n",
       "    }\n",
       "</style>\n",
       "<table border=\"1\" class=\"dataframe\">\n",
       "  <thead>\n",
       "    <tr style=\"text-align: right;\">\n",
       "      <th></th>\n",
       "      <th>Youtuber</th>\n",
       "      <th>subscribers</th>\n",
       "      <th>video views</th>\n",
       "      <th>category</th>\n",
       "      <th>Title</th>\n",
       "      <th>uploads</th>\n",
       "      <th>Country</th>\n",
       "      <th>Abbreviation</th>\n",
       "      <th>channel_type</th>\n",
       "      <th>video_views_rank</th>\n",
       "      <th>...</th>\n",
       "      <th>created_month</th>\n",
       "      <th>created_date</th>\n",
       "      <th>Gross tertiary education enrollment (%)</th>\n",
       "      <th>Population</th>\n",
       "      <th>Unemployment rate</th>\n",
       "      <th>Urban_population</th>\n",
       "      <th>Latitude</th>\n",
       "      <th>Longitude</th>\n",
       "      <th>average_monthly_earnings</th>\n",
       "      <th>average_yearly_earnings</th>\n",
       "    </tr>\n",
       "    <tr>\n",
       "      <th>rank</th>\n",
       "      <th></th>\n",
       "      <th></th>\n",
       "      <th></th>\n",
       "      <th></th>\n",
       "      <th></th>\n",
       "      <th></th>\n",
       "      <th></th>\n",
       "      <th></th>\n",
       "      <th></th>\n",
       "      <th></th>\n",
       "      <th></th>\n",
       "      <th></th>\n",
       "      <th></th>\n",
       "      <th></th>\n",
       "      <th></th>\n",
       "      <th></th>\n",
       "      <th></th>\n",
       "      <th></th>\n",
       "      <th></th>\n",
       "      <th></th>\n",
       "      <th></th>\n",
       "    </tr>\n",
       "  </thead>\n",
       "  <tbody>\n",
       "    <tr>\n",
       "      <th>1</th>\n",
       "      <td>T-Series</td>\n",
       "      <td>245000000</td>\n",
       "      <td>2.280000e+11</td>\n",
       "      <td>Music</td>\n",
       "      <td>T-Series</td>\n",
       "      <td>20082</td>\n",
       "      <td>India</td>\n",
       "      <td>IN</td>\n",
       "      <td>Music</td>\n",
       "      <td>1.0</td>\n",
       "      <td>...</td>\n",
       "      <td>Mar</td>\n",
       "      <td>13.0</td>\n",
       "      <td>28.1</td>\n",
       "      <td>1.366418e+09</td>\n",
       "      <td>5.36</td>\n",
       "      <td>471031528.0</td>\n",
       "      <td>20.593684</td>\n",
       "      <td>78.962880</td>\n",
       "      <td>4782300.000</td>\n",
       "      <td>57600000.00</td>\n",
       "    </tr>\n",
       "    <tr>\n",
       "      <th>2</th>\n",
       "      <td>YouTube Movies</td>\n",
       "      <td>170000000</td>\n",
       "      <td>0.000000e+00</td>\n",
       "      <td>Film &amp; Animation</td>\n",
       "      <td>youtubemovies</td>\n",
       "      <td>1</td>\n",
       "      <td>United States</td>\n",
       "      <td>US</td>\n",
       "      <td>Games</td>\n",
       "      <td>4055159.0</td>\n",
       "      <td>...</td>\n",
       "      <td>Mar</td>\n",
       "      <td>5.0</td>\n",
       "      <td>88.2</td>\n",
       "      <td>3.282395e+08</td>\n",
       "      <td>14.70</td>\n",
       "      <td>270663028.0</td>\n",
       "      <td>37.090240</td>\n",
       "      <td>-95.712891</td>\n",
       "      <td>0.025</td>\n",
       "      <td>0.31</td>\n",
       "    </tr>\n",
       "    <tr>\n",
       "      <th>3</th>\n",
       "      <td>MrBeast</td>\n",
       "      <td>166000000</td>\n",
       "      <td>2.836884e+10</td>\n",
       "      <td>Entertainment</td>\n",
       "      <td>MrBeast</td>\n",
       "      <td>741</td>\n",
       "      <td>United States</td>\n",
       "      <td>US</td>\n",
       "      <td>Entertainment</td>\n",
       "      <td>48.0</td>\n",
       "      <td>...</td>\n",
       "      <td>Feb</td>\n",
       "      <td>20.0</td>\n",
       "      <td>88.2</td>\n",
       "      <td>3.282395e+08</td>\n",
       "      <td>14.70</td>\n",
       "      <td>270663028.0</td>\n",
       "      <td>37.090240</td>\n",
       "      <td>-95.712891</td>\n",
       "      <td>2868500.000</td>\n",
       "      <td>34350000.00</td>\n",
       "    </tr>\n",
       "    <tr>\n",
       "      <th>4</th>\n",
       "      <td>Cocomelon - Nursery Rhymes</td>\n",
       "      <td>162000000</td>\n",
       "      <td>1.640000e+11</td>\n",
       "      <td>Education</td>\n",
       "      <td>Cocomelon - Nursery Rhymes</td>\n",
       "      <td>966</td>\n",
       "      <td>United States</td>\n",
       "      <td>US</td>\n",
       "      <td>Education</td>\n",
       "      <td>2.0</td>\n",
       "      <td>...</td>\n",
       "      <td>Sep</td>\n",
       "      <td>1.0</td>\n",
       "      <td>88.2</td>\n",
       "      <td>3.282395e+08</td>\n",
       "      <td>14.70</td>\n",
       "      <td>270663028.0</td>\n",
       "      <td>37.090240</td>\n",
       "      <td>-95.712891</td>\n",
       "      <td>4196900.000</td>\n",
       "      <td>50350000.00</td>\n",
       "    </tr>\n",
       "    <tr>\n",
       "      <th>5</th>\n",
       "      <td>SET India</td>\n",
       "      <td>159000000</td>\n",
       "      <td>1.480000e+11</td>\n",
       "      <td>Shows</td>\n",
       "      <td>SET India</td>\n",
       "      <td>116536</td>\n",
       "      <td>India</td>\n",
       "      <td>IN</td>\n",
       "      <td>Entertainment</td>\n",
       "      <td>3.0</td>\n",
       "      <td>...</td>\n",
       "      <td>Sep</td>\n",
       "      <td>20.0</td>\n",
       "      <td>28.1</td>\n",
       "      <td>1.366418e+09</td>\n",
       "      <td>5.36</td>\n",
       "      <td>471031528.0</td>\n",
       "      <td>20.593684</td>\n",
       "      <td>78.962880</td>\n",
       "      <td>3877950.000</td>\n",
       "      <td>46500000.00</td>\n",
       "    </tr>\n",
       "  </tbody>\n",
       "</table>\n",
       "<p>5 rows × 25 columns</p>\n",
       "</div>"
      ],
      "text/plain": [
       "                        Youtuber  subscribers   video views          category  \\\n",
       "rank                                                                            \n",
       "1                       T-Series    245000000  2.280000e+11             Music   \n",
       "2                 YouTube Movies    170000000  0.000000e+00  Film & Animation   \n",
       "3                        MrBeast    166000000  2.836884e+10     Entertainment   \n",
       "4     Cocomelon - Nursery Rhymes    162000000  1.640000e+11         Education   \n",
       "5                      SET India    159000000  1.480000e+11             Shows   \n",
       "\n",
       "                           Title  uploads        Country Abbreviation  \\\n",
       "rank                                                                    \n",
       "1                       T-Series    20082          India           IN   \n",
       "2                  youtubemovies        1  United States           US   \n",
       "3                        MrBeast      741  United States           US   \n",
       "4     Cocomelon - Nursery Rhymes      966  United States           US   \n",
       "5                      SET India   116536          India           IN   \n",
       "\n",
       "       channel_type  video_views_rank  ...  created_month  created_date  \\\n",
       "rank                                   ...                                \n",
       "1             Music               1.0  ...            Mar          13.0   \n",
       "2             Games         4055159.0  ...            Mar           5.0   \n",
       "3     Entertainment              48.0  ...            Feb          20.0   \n",
       "4         Education               2.0  ...            Sep           1.0   \n",
       "5     Entertainment               3.0  ...            Sep          20.0   \n",
       "\n",
       "      Gross tertiary education enrollment (%)    Population  \\\n",
       "rank                                                          \n",
       "1                                        28.1  1.366418e+09   \n",
       "2                                        88.2  3.282395e+08   \n",
       "3                                        88.2  3.282395e+08   \n",
       "4                                        88.2  3.282395e+08   \n",
       "5                                        28.1  1.366418e+09   \n",
       "\n",
       "      Unemployment rate Urban_population   Latitude  Longitude  \\\n",
       "rank                                                             \n",
       "1                  5.36      471031528.0  20.593684  78.962880   \n",
       "2                 14.70      270663028.0  37.090240 -95.712891   \n",
       "3                 14.70      270663028.0  37.090240 -95.712891   \n",
       "4                 14.70      270663028.0  37.090240 -95.712891   \n",
       "5                  5.36      471031528.0  20.593684  78.962880   \n",
       "\n",
       "      average_monthly_earnings  average_yearly_earnings  \n",
       "rank                                                     \n",
       "1                  4782300.000              57600000.00  \n",
       "2                        0.025                     0.31  \n",
       "3                  2868500.000              34350000.00  \n",
       "4                  4196900.000              50350000.00  \n",
       "5                  3877950.000              46500000.00  \n",
       "\n",
       "[5 rows x 25 columns]"
      ]
     },
     "execution_count": 13,
     "metadata": {},
     "output_type": "execute_result"
    }
   ],
   "source": [
    "# Create a new column 'average_monthly_earnings' with the average of the two earnings columns\n",
    "df['average_monthly_earnings'] = df[['lowest_monthly_earnings', 'highest_monthly_earnings']].mean(axis=1)\n",
    "\n",
    "# Drop the original columns if you no longer need them\n",
    "df = df.drop(['lowest_monthly_earnings', 'highest_monthly_earnings'], axis=1)\n",
    "\n",
    "\n",
    "# Create a new column 'average_yearly_earnings' with the average of the two earnings columns\n",
    "df['average_yearly_earnings'] = df[['lowest_yearly_earnings', 'highest_yearly_earnings']].mean(axis=1)\n",
    "\n",
    "# Drop the original columns if you no longer need them\n",
    "df = df.drop(['lowest_yearly_earnings', 'highest_yearly_earnings'], axis=1)\n",
    "\n",
    "# Display the updated DataFrame\n",
    "df.head()"
   ]
  },
  {
   "cell_type": "code",
   "execution_count": 14,
   "metadata": {},
   "outputs": [],
   "source": [
    "df = df.rename(columns={'video views': 'video_views'})"
   ]
  },
  {
   "cell_type": "markdown",
   "metadata": {},
   "source": [
    "#### Correlation Matrix"
   ]
  },
  {
   "cell_type": "code",
   "execution_count": 15,
   "metadata": {},
   "outputs": [
    {
     "data": {
      "image/png": "[encoded data removed]",
      "text/plain": [
       "<Figure size 1200x1000 with 2 Axes>"
      ]
     },
     "metadata": {},
     "output_type": "display_data"
    }
   ],
   "source": [
    "#Correlation with our dependent variable\n",
    "# Select only numeric columns for correlation analysis\n",
    "numeric_columns = df.select_dtypes(include=['float64', 'int64']).columns\n",
    "numeric_df = df[numeric_columns]\n",
    "\n",
    "# Compute the correlation matrix\n",
    "correlation_matrix = numeric_df.corr()\n",
    "\n",
    "# Create a heatmap for visualization\n",
    "plt.figure(figsize=(12, 10))\n",
    "sns.heatmap(correlation_matrix, annot=True, cmap='coolwarm', fmt=\".2f\", linewidths=.5)\n",
    "plt.title('Correlation Matrix')\n",
    "plt.show()"
   ]
  },
  {
   "cell_type": "code",
   "execution_count": 22,
   "metadata": {},
   "outputs": [
    {
     "data": {
      "text/plain": [
       "Latitude                                   0.006856\n",
       "created_date                               0.039977\n",
       "Unemployment rate                          0.042642\n",
       "Gross tertiary education enrollment (%)    0.061986\n",
       "created_year                               0.072291\n",
       "Urban_population                           0.081225\n",
       "Longitude                                  0.100304\n",
       "Population                                 0.104787\n",
       "country_rank                               0.148960\n",
       "uploads                                    0.167262\n",
       "channel_type_rank                          0.187967\n",
       "video_views_rank                           0.208932\n",
       "subscribers                                0.388601\n",
       "video_views                                0.551494\n",
       "subscribers_for_last_30_days               0.679681\n",
       "video_views_for_the_last_30_days           0.680293\n",
       "average_yearly_earnings                    0.999958\n",
       "average_monthly_earnings                   1.000000\n",
       "Name: average_monthly_earnings, dtype: float64"
      ]
     },
     "execution_count": 22,
     "metadata": {},
     "output_type": "execute_result"
    }
   ],
   "source": [
    "#Correlation with output variable\n",
    "\n",
    "cor_target = numeric_df.corr()[\"average_monthly_earnings\"].abs().sort_values()\n",
    "cor_target\n",
    " "
   ]
  },
  {
   "cell_type": "code",
   "execution_count": 23,
   "metadata": {},
   "outputs": [
    {
     "data": {
      "text/plain": [
       "subscribers                         0.388601\n",
       "video_views                         0.551494\n",
       "subscribers_for_last_30_days        0.679681\n",
       "video_views_for_the_last_30_days    0.680293\n",
       "average_yearly_earnings             0.999958\n",
       "average_monthly_earnings            1.000000\n",
       "Name: average_monthly_earnings, dtype: float64"
      ]
     },
     "execution_count": 23,
     "metadata": {},
     "output_type": "execute_result"
    }
   ],
   "source": [
    "#Selecting highly correlated features\n",
    "relevant_features = cor_target[cor_target>0.3]\n",
    "relevant_features"
   ]
  },
  {
   "cell_type": "code",
   "execution_count": 25,
   "metadata": {},
   "outputs": [
    {
     "data": {
      "text/html": [
       "<div>\n",
       "<style scoped>\n",
       "    .dataframe tbody tr th:only-of-type {\n",
       "        vertical-align: middle;\n",
       "    }\n",
       "\n",
       "    .dataframe tbody tr th {\n",
       "        vertical-align: top;\n",
       "    }\n",
       "\n",
       "    .dataframe thead th {\n",
       "        text-align: right;\n",
       "    }\n",
       "</style>\n",
       "<table border=\"1\" class=\"dataframe\">\n",
       "  <thead>\n",
       "    <tr style=\"text-align: right;\">\n",
       "      <th></th>\n",
       "      <th>subscribers</th>\n",
       "      <th>subscribers_for_last_30_days</th>\n",
       "      <th>video_views</th>\n",
       "      <th>video_views_for_the_last_30_days</th>\n",
       "      <th>average_monthly_earnings</th>\n",
       "      <th>Country</th>\n",
       "      <th>channel_type</th>\n",
       "    </tr>\n",
       "    <tr>\n",
       "      <th>rank</th>\n",
       "      <th></th>\n",
       "      <th></th>\n",
       "      <th></th>\n",
       "      <th></th>\n",
       "      <th></th>\n",
       "      <th></th>\n",
       "      <th></th>\n",
       "    </tr>\n",
       "  </thead>\n",
       "  <tbody>\n",
       "    <tr>\n",
       "      <th>1</th>\n",
       "      <td>245000000</td>\n",
       "      <td>2000000.0</td>\n",
       "      <td>2.280000e+11</td>\n",
       "      <td>2.258000e+09</td>\n",
       "      <td>4782300.000</td>\n",
       "      <td>India</td>\n",
       "      <td>Music</td>\n",
       "    </tr>\n",
       "    <tr>\n",
       "      <th>2</th>\n",
       "      <td>170000000</td>\n",
       "      <td>NaN</td>\n",
       "      <td>0.000000e+00</td>\n",
       "      <td>1.200000e+01</td>\n",
       "      <td>0.025</td>\n",
       "      <td>United States</td>\n",
       "      <td>Games</td>\n",
       "    </tr>\n",
       "    <tr>\n",
       "      <th>3</th>\n",
       "      <td>166000000</td>\n",
       "      <td>8000000.0</td>\n",
       "      <td>2.836884e+10</td>\n",
       "      <td>1.348000e+09</td>\n",
       "      <td>2868500.000</td>\n",
       "      <td>United States</td>\n",
       "      <td>Entertainment</td>\n",
       "    </tr>\n",
       "    <tr>\n",
       "      <th>4</th>\n",
       "      <td>162000000</td>\n",
       "      <td>1000000.0</td>\n",
       "      <td>1.640000e+11</td>\n",
       "      <td>1.975000e+09</td>\n",
       "      <td>4196900.000</td>\n",
       "      <td>United States</td>\n",
       "      <td>Education</td>\n",
       "    </tr>\n",
       "    <tr>\n",
       "      <th>5</th>\n",
       "      <td>159000000</td>\n",
       "      <td>1000000.0</td>\n",
       "      <td>1.480000e+11</td>\n",
       "      <td>1.824000e+09</td>\n",
       "      <td>3877950.000</td>\n",
       "      <td>India</td>\n",
       "      <td>Entertainment</td>\n",
       "    </tr>\n",
       "  </tbody>\n",
       "</table>\n",
       "</div>"
      ],
      "text/plain": [
       "      subscribers  subscribers_for_last_30_days   video_views  \\\n",
       "rank                                                            \n",
       "1       245000000                     2000000.0  2.280000e+11   \n",
       "2       170000000                           NaN  0.000000e+00   \n",
       "3       166000000                     8000000.0  2.836884e+10   \n",
       "4       162000000                     1000000.0  1.640000e+11   \n",
       "5       159000000                     1000000.0  1.480000e+11   \n",
       "\n",
       "      video_views_for_the_last_30_days  average_monthly_earnings  \\\n",
       "rank                                                               \n",
       "1                         2.258000e+09               4782300.000   \n",
       "2                         1.200000e+01                     0.025   \n",
       "3                         1.348000e+09               2868500.000   \n",
       "4                         1.975000e+09               4196900.000   \n",
       "5                         1.824000e+09               3877950.000   \n",
       "\n",
       "            Country   channel_type  \n",
       "rank                                \n",
       "1             India          Music  \n",
       "2     United States          Games  \n",
       "3     United States  Entertainment  \n",
       "4     United States      Education  \n",
       "5             India  Entertainment  "
      ]
     },
     "execution_count": 25,
     "metadata": {},
     "output_type": "execute_result"
    }
   ],
   "source": [
    "# Keeping the most related colums and the categorical columns\n",
    "columns_to_keep = ['subscribers', 'subscribers_for_last_30_days', 'video_views', 'video_views_for_the_last_30_days', 'average_monthly_earnings', 'Country', 'channel_type']\n",
    "# Drop columns not in the specified list\n",
    "df = df[columns_to_keep]\n",
    "df.head()"
   ]
  },
  {
   "cell_type": "code",
   "execution_count": 26,
   "metadata": {},
   "outputs": [
    {
     "data": {
      "text/plain": [
       "subscribers                           0\n",
       "subscribers_for_last_30_days        337\n",
       "video_views                           0\n",
       "video_views_for_the_last_30_days     56\n",
       "average_monthly_earnings              0\n",
       "Country                             122\n",
       "channel_type                         30\n",
       "dtype: int64"
      ]
     },
     "execution_count": 26,
     "metadata": {},
     "output_type": "execute_result"
    }
   ],
   "source": [
    "# checking null values\n",
    "df.isnull().sum()"
   ]
  },
  {
   "cell_type": "code",
   "execution_count": 27,
   "metadata": {},
   "outputs": [
    {
     "data": {
      "text/html": [
       "<div>\n",
       "<style scoped>\n",
       "    .dataframe tbody tr th:only-of-type {\n",
       "        vertical-align: middle;\n",
       "    }\n",
       "\n",
       "    .dataframe tbody tr th {\n",
       "        vertical-align: top;\n",
       "    }\n",
       "\n",
       "    .dataframe thead th {\n",
       "        text-align: right;\n",
       "    }\n",
       "</style>\n",
       "<table border=\"1\" class=\"dataframe\">\n",
       "  <thead>\n",
       "    <tr style=\"text-align: right;\">\n",
       "      <th></th>\n",
       "      <th>count</th>\n",
       "      <th>mean</th>\n",
       "      <th>std</th>\n",
       "      <th>min</th>\n",
       "      <th>25%</th>\n",
       "      <th>50%</th>\n",
       "      <th>75%</th>\n",
       "      <th>max</th>\n",
       "    </tr>\n",
       "  </thead>\n",
       "  <tbody>\n",
       "    <tr>\n",
       "      <th>subscribers</th>\n",
       "      <td>995.0</td>\n",
       "      <td>2.298241e+07</td>\n",
       "      <td>1.752611e+07</td>\n",
       "      <td>12300000.0</td>\n",
       "      <td>1.450000e+07</td>\n",
       "      <td>1.770000e+07</td>\n",
       "      <td>2.460000e+07</td>\n",
       "      <td>2.450000e+08</td>\n",
       "    </tr>\n",
       "    <tr>\n",
       "      <th>subscribers_for_last_30_days</th>\n",
       "      <td>658.0</td>\n",
       "      <td>3.490791e+05</td>\n",
       "      <td>6.143554e+05</td>\n",
       "      <td>1.0</td>\n",
       "      <td>1.000000e+05</td>\n",
       "      <td>2.000000e+05</td>\n",
       "      <td>4.000000e+05</td>\n",
       "      <td>8.000000e+06</td>\n",
       "    </tr>\n",
       "    <tr>\n",
       "      <th>video_views</th>\n",
       "      <td>995.0</td>\n",
       "      <td>1.103954e+10</td>\n",
       "      <td>1.411084e+10</td>\n",
       "      <td>0.0</td>\n",
       "      <td>4.288145e+09</td>\n",
       "      <td>7.760820e+09</td>\n",
       "      <td>1.355470e+10</td>\n",
       "      <td>2.280000e+11</td>\n",
       "    </tr>\n",
       "    <tr>\n",
       "      <th>video_views_for_the_last_30_days</th>\n",
       "      <td>939.0</td>\n",
       "      <td>1.756103e+08</td>\n",
       "      <td>4.163782e+08</td>\n",
       "      <td>1.0</td>\n",
       "      <td>2.013750e+07</td>\n",
       "      <td>6.408500e+07</td>\n",
       "      <td>1.688265e+08</td>\n",
       "      <td>6.589000e+09</td>\n",
       "    </tr>\n",
       "    <tr>\n",
       "      <th>average_monthly_earnings</th>\n",
       "      <td>995.0</td>\n",
       "      <td>3.133470e+05</td>\n",
       "      <td>6.102391e+05</td>\n",
       "      <td>0.0</td>\n",
       "      <td>2.310000e+04</td>\n",
       "      <td>1.130000e+05</td>\n",
       "      <td>3.223500e+05</td>\n",
       "      <td>7.225450e+06</td>\n",
       "    </tr>\n",
       "  </tbody>\n",
       "</table>\n",
       "</div>"
      ],
      "text/plain": [
       "                                  count          mean           std  \\\n",
       "subscribers                       995.0  2.298241e+07  1.752611e+07   \n",
       "subscribers_for_last_30_days      658.0  3.490791e+05  6.143554e+05   \n",
       "video_views                       995.0  1.103954e+10  1.411084e+10   \n",
       "video_views_for_the_last_30_days  939.0  1.756103e+08  4.163782e+08   \n",
       "average_monthly_earnings          995.0  3.133470e+05  6.102391e+05   \n",
       "\n",
       "                                         min           25%           50%  \\\n",
       "subscribers                       12300000.0  1.450000e+07  1.770000e+07   \n",
       "subscribers_for_last_30_days             1.0  1.000000e+05  2.000000e+05   \n",
       "video_views                              0.0  4.288145e+09  7.760820e+09   \n",
       "video_views_for_the_last_30_days         1.0  2.013750e+07  6.408500e+07   \n",
       "average_monthly_earnings                 0.0  2.310000e+04  1.130000e+05   \n",
       "\n",
       "                                           75%           max  \n",
       "subscribers                       2.460000e+07  2.450000e+08  \n",
       "subscribers_for_last_30_days      4.000000e+05  8.000000e+06  \n",
       "video_views                       1.355470e+10  2.280000e+11  \n",
       "video_views_for_the_last_30_days  1.688265e+08  6.589000e+09  \n",
       "average_monthly_earnings          3.223500e+05  7.225450e+06  "
      ]
     },
     "execution_count": 27,
     "metadata": {},
     "output_type": "execute_result"
    }
   ],
   "source": [
    "df.describe().T"
   ]
  },
  {
   "cell_type": "markdown",
   "metadata": {},
   "source": [
    "#### Handling missing values"
   ]
  },
  {
   "cell_type": "code",
   "execution_count": 28,
   "metadata": {},
   "outputs": [
    {
     "name": "stderr",
     "output_type": "stream",
     "text": [
      "C:\\Users\\KennedyOdhiambo\\AppData\\Local\\Temp\\ipykernel_3736\\1059862214.py:2: SettingWithCopyWarning: \n",
      "A value is trying to be set on a copy of a slice from a DataFrame\n",
      "\n",
      "See the caveats in the documentation: https://pandas.pydata.org/pandas-docs/stable/user_guide/indexing.html#returning-a-view-versus-a-copy\n",
      "  df['Country'].fillna('Other', inplace=True)\n",
      "C:\\Users\\KennedyOdhiambo\\AppData\\Local\\Temp\\ipykernel_3736\\1059862214.py:3: SettingWithCopyWarning: \n",
      "A value is trying to be set on a copy of a slice from a DataFrame\n",
      "\n",
      "See the caveats in the documentation: https://pandas.pydata.org/pandas-docs/stable/user_guide/indexing.html#returning-a-view-versus-a-copy\n",
      "  df['channel_type'].fillna('Other', inplace=True)\n"
     ]
    }
   ],
   "source": [
    "#Replacing the missing values in categorical columns  with \"Other\"\n",
    "df['Country'].fillna('Other', inplace=True)\n",
    "df['channel_type'].fillna('Other', inplace=True)"
   ]
  },
  {
   "cell_type": "code",
   "execution_count": 36,
   "metadata": {},
   "outputs": [
    {
     "data": {
      "text/plain": [
       "<Axes: >"
      ]
     },
     "execution_count": 36,
     "metadata": {},
     "output_type": "execute_result"
    },
    {
     "data": {
      "image/png": "[encoded data removed]",
      "text/plain": [
       "<Figure size 640x480 with 1 Axes>"
      ]
     },
     "metadata": {},
     "output_type": "display_data"
    }
   ],
   "source": [
    "#boxplot of the 'video_views_for_the_last_30_days'\n",
    "\n",
    "df['video_views_for_the_last_30_days'].plot.box()"
   ]
  },
  {
   "cell_type": "code",
   "execution_count": 29,
   "metadata": {},
   "outputs": [
    {
     "name": "stderr",
     "output_type": "stream",
     "text": [
      "C:\\Users\\KennedyOdhiambo\\AppData\\Local\\Temp\\ipykernel_3736\\1322755799.py:3: SettingWithCopyWarning: \n",
      "A value is trying to be set on a copy of a slice from a DataFrame\n",
      "\n",
      "See the caveats in the documentation: https://pandas.pydata.org/pandas-docs/stable/user_guide/indexing.html#returning-a-view-versus-a-copy\n",
      "  df[\"video_views_for_the_last_30_days\"].fillna(mode_value, inplace=True)\n"
     ]
    }
   ],
   "source": [
    "#Replacing missing values of video_views_for_last_30_days with the mode\n",
    "mode_value = df[\"video_views_for_the_last_30_days\"].mode()[0]\n",
    "df[\"video_views_for_the_last_30_days\"].fillna(mode_value, inplace=True)"
   ]
  },
  {
   "cell_type": "code",
   "execution_count": 37,
   "metadata": {},
   "outputs": [
    {
     "data": {
      "text/plain": [
       "<Axes: >"
      ]
     },
     "execution_count": 37,
     "metadata": {},
     "output_type": "execute_result"
    },
    {
     "data": {
      "image/png": "[encoded data removed]",
      "text/plain": [
       "<Figure size 640x480 with 1 Axes>"
      ]
     },
     "metadata": {},
     "output_type": "display_data"
    }
   ],
   "source": [
    "#boxplot for \"subscribers_for_last_30_days\" \n",
    "\n",
    "df[\"subscribers_for_last_30_days\"].plot.box()"
   ]
  },
  {
   "cell_type": "code",
   "execution_count": 30,
   "metadata": {},
   "outputs": [
    {
     "name": "stderr",
     "output_type": "stream",
     "text": [
      "C:\\Users\\KennedyOdhiambo\\AppData\\Local\\Temp\\ipykernel_3736\\3417572302.py:3: SettingWithCopyWarning: \n",
      "A value is trying to be set on a copy of a slice from a DataFrame\n",
      "\n",
      "See the caveats in the documentation: https://pandas.pydata.org/pandas-docs/stable/user_guide/indexing.html#returning-a-view-versus-a-copy\n",
      "  df[\"subscribers_for_last_30_days\"].fillna(mode_value, inplace=True)\n"
     ]
    }
   ],
   "source": [
    "#Replacing missing values of subscribers_for_last_30_days with the mode\n",
    "mode_value = df[\"subscribers_for_last_30_days\"].mode()[0]\n",
    "df[\"subscribers_for_last_30_days\"].fillna(mode_value, inplace=True)"
   ]
  },
  {
   "cell_type": "code",
   "execution_count": 38,
   "metadata": {},
   "outputs": [
    {
     "data": {
      "text/plain": [
       "subscribers                         0\n",
       "subscribers_for_last_30_days        0\n",
       "video_views                         0\n",
       "video_views_for_the_last_30_days    0\n",
       "average_monthly_earnings            0\n",
       "Country                             0\n",
       "channel_type                        0\n",
       "dtype: int64"
      ]
     },
     "execution_count": 38,
     "metadata": {},
     "output_type": "execute_result"
    }
   ],
   "source": [
    "# checking null values\n",
    "df.isnull().sum()"
   ]
  },
  {
   "cell_type": "markdown",
   "metadata": {},
   "source": [
    "## Model Development"
   ]
  },
  {
   "cell_type": "code",
   "execution_count": 39,
   "metadata": {},
   "outputs": [
    {
     "data": {
      "text/plain": [
       "subscribers                         0.388601\n",
       "video_views                         0.551494\n",
       "subscribers_for_last_30_days        0.679681\n",
       "video_views_for_the_last_30_days    0.680293\n",
       "average_yearly_earnings             0.999958\n",
       "average_monthly_earnings            1.000000\n",
       "Name: average_monthly_earnings, dtype: float64"
      ]
     },
     "execution_count": 39,
     "metadata": {},
     "output_type": "execute_result"
    }
   ],
   "source": [
    "relevant_features = cor_target[cor_target>0.3]\n",
    "relevant_features"
   ]
  },
  {
   "cell_type": "code",
   "execution_count": 129,
   "metadata": {},
   "outputs": [],
   "source": [
    "#filtering columns with views more than 0\n",
    "\n",
    "df = df.loc[df['video_views'] > 0]"
   ]
  },
  {
   "cell_type": "code",
   "execution_count": 130,
   "metadata": {},
   "outputs": [],
   "source": [
    "#Defining the X and y\n",
    "\n",
    "X = df[['subscribers', 'video_views','subscribers_for_last_30_days', 'video_views_for_the_last_30_days']]\n",
    "\n",
    "y = df['average_monthly_earnings']"
   ]
  },
  {
   "cell_type": "code",
   "execution_count": 131,
   "metadata": {},
   "outputs": [
    {
     "name": "stdout",
     "output_type": "stream",
     "text": [
      "                               OLS Regression Results                               \n",
      "====================================================================================\n",
      "Dep. Variable:     average_monthly_earnings   R-squared:                       0.467\n",
      "Model:                                  OLS   Adj. R-squared:                  0.467\n",
      "Method:                       Least Squares   F-statistic:                     863.9\n",
      "Date:                      Wed, 31 Jan 2024   Prob (F-statistic):          7.68e-137\n",
      "Time:                              08:27:58   Log-Likelihood:                -14241.\n",
      "No. Observations:                       987   AIC:                         2.849e+04\n",
      "Df Residuals:                           985   BIC:                         2.849e+04\n",
      "Df Model:                                 1                                         \n",
      "Covariance Type:                  nonrobust                                         \n",
      "====================================================================================================\n",
      "                                       coef    std err          t      P>|t|      [0.025      0.975]\n",
      "----------------------------------------------------------------------------------------------------\n",
      "Intercept                         1.445e+05   1.54e+04      9.399      0.000    1.14e+05    1.75e+05\n",
      "video_views_for_the_last_30_days     0.0010   3.49e-05     29.392      0.000       0.001       0.001\n",
      "==============================================================================\n",
      "Omnibus:                     1159.721   Durbin-Watson:                   1.802\n",
      "Prob(Omnibus):                  0.000   Jarque-Bera (JB):           493302.622\n",
      "Skew:                          -5.237   Prob(JB):                         0.00\n",
      "Kurtosis:                     112.021   Cond. No.                     4.76e+08\n",
      "==============================================================================\n",
      "\n",
      "Notes:\n",
      "[1] Standard Errors assume that the covariance matrix of the errors is correctly specified.\n",
      "[2] The condition number is large, 4.76e+08. This might indicate that there are\n",
      "strong multicollinearity or other numerical problems.\n"
     ]
    }
   ],
   "source": [
    "#building the baseline model\n",
    "simple_formula = \"average_monthly_earnings  ~ video_views_for_the_last_30_days\"\n",
    "simple_model = ols(simple_formula, data=df).fit()\n",
    "simple_model_summary = simple_model.summary()\n",
    "print(simple_model_summary)"
   ]
  },
  {
   "cell_type": "code",
   "execution_count": 132,
   "metadata": {},
   "outputs": [
    {
     "data": {
      "text/plain": [
       "183123.77140663582"
      ]
     },
     "execution_count": 132,
     "metadata": {},
     "output_type": "execute_result"
    }
   ],
   "source": [
    "#checking the mean absolute error for the model\n",
    "\n",
    "predicted_earnings = simple_model.predict(df['video_views_for_the_last_30_days'])\n",
    "\n",
    "mae = mean_absolute_error(df['average_monthly_earnings'], predicted_earnings)\n",
    "\n",
    "mae"
   ]
  },
  {
   "cell_type": "markdown",
   "metadata": {},
   "source": [
    "### Interpretation\n",
    "\n",
    "The simple model has a R-squared of 0.468 therefore explaining aproximately 47% of the variation in the average monthly earnings.\n",
    "\n",
    "The overall model is significant.\n",
    "\n",
    "All the coefficients are significant.\n",
    "\n",
    "A one unit increase in video views for the last 30 days, leads to approximately 0.001 increase in the average monthly earning.\n",
    "\n",
    "For every prediction made by the `simple_model`, the predicted earning will always be off by approximately $182151."
   ]
  },
  {
   "cell_type": "code",
   "execution_count": 133,
   "metadata": {},
   "outputs": [
    {
     "name": "stdout",
     "output_type": "stream",
     "text": [
      "                               OLS Regression Results                               \n",
      "====================================================================================\n",
      "Dep. Variable:     average_monthly_earnings   R-squared:                       0.764\n",
      "Model:                                  OLS   Adj. R-squared:                  0.764\n",
      "Method:                       Least Squares   F-statistic:                     796.9\n",
      "Date:                      Wed, 31 Jan 2024   Prob (F-statistic):          1.73e-306\n",
      "Time:                              08:28:40   Log-Likelihood:                -13838.\n",
      "No. Observations:                       987   AIC:                         2.769e+04\n",
      "Df Residuals:                           982   BIC:                         2.771e+04\n",
      "Df Model:                                 4                                         \n",
      "Covariance Type:                  nonrobust                                         \n",
      "====================================================================================================\n",
      "                                       coef    std err          t      P>|t|      [0.025      0.975]\n",
      "----------------------------------------------------------------------------------------------------\n",
      "Intercept                         4.364e+04   1.72e+04      2.542      0.011    9946.430    7.73e+04\n",
      "video_views_for_the_last_30_days     0.0005   2.81e-05     16.727      0.000       0.000       0.001\n",
      "subscribers_for_last_30_days         0.6147      0.022     28.161      0.000       0.572       0.658\n",
      "video_views                       2.484e-05   1.24e-06     20.041      0.000    2.24e-05    2.73e-05\n",
      "subscribers                         -0.0109      0.001    -10.292      0.000      -0.013      -0.009\n",
      "==============================================================================\n",
      "Omnibus:                      343.508   Durbin-Watson:                   1.968\n",
      "Prob(Omnibus):                  0.000   Jarque-Bera (JB):            80438.467\n",
      "Skew:                          -0.158   Prob(JB):                         0.00\n",
      "Kurtosis:                      47.225   Cond. No.                     3.26e+10\n",
      "==============================================================================\n",
      "\n",
      "Notes:\n",
      "[1] Standard Errors assume that the covariance matrix of the errors is correctly specified.\n",
      "[2] The condition number is large, 3.26e+10. This might indicate that there are\n",
      "strong multicollinearity or other numerical problems.\n"
     ]
    }
   ],
   "source": [
    "#Including all the other variables in the model\n",
    "multiple_formula = 'average_monthly_earnings ~ video_views_for_the_last_30_days + subscribers_for_last_30_days + video_views  + subscribers'\n",
    "multiple_model = ols(multiple_formula, df).fit()\n",
    "multiple_model_summary = multiple_model.summary()\n",
    "print(multiple_model_summary)"
   ]
  },
  {
   "cell_type": "markdown",
   "metadata": {},
   "source": [
    "### Interpretation\n",
    "\n",
    "The adjusted R-squared is 0.764 indicating `video_views_for_the_last_30_days`, `subscribers_for_last_30_days`, `video_views`, and `subscribers` explain approximately 76% of the variation in the average monthly earnings of a channel.\n",
    "\n",
    "The model is is statistically statistically significant.\n",
    "\n",
    "All the coefficients are statistically significant.\n",
    "\n",
    "**To continue**"
   ]
  },
  {
   "cell_type": "markdown",
   "metadata": {},
   "source": [
    "## Model Diagnostics\n",
    "---"
   ]
  },
  {
   "cell_type": "markdown",
   "metadata": {},
   "source": [
    "### Checking for Multicolinearity"
   ]
  },
  {
   "cell_type": "code",
   "execution_count": 134,
   "metadata": {},
   "outputs": [
    {
     "data": {
      "text/plain": [
       "{'video_views_for_the_last_30_days': 1.6965911609658666,\n",
       " 'subscribers_for_last_30_days': 1.7221534492246924,\n",
       " 'video_views': 3.888881834679827,\n",
       " 'subscribers': 4.0116455612396305}"
      ]
     },
     "execution_count": 134,
     "metadata": {},
     "output_type": "execute_result"
    }
   ],
   "source": [
    "df_vif_data  = df[['video_views_for_the_last_30_days', 'subscribers_for_last_30_days', 'video_views','subscribers']]\n",
    "\n",
    "\n",
    "\n",
    "vif_result = [VIF(df_vif_copy.values, i) for i in range(df_vif_copy.shape[1])]\n",
    "\n",
    "dict(zip(df_vif_data, vif_result))"
   ]
  },
  {
   "cell_type": "markdown",
   "metadata": {},
   "source": [
    "All the features have VIF score of less than 5 therefore the features are moderately correlated."
   ]
  },
  {
   "cell_type": "markdown",
   "metadata": {},
   "source": [
    "**Linearity Asumption**"
   ]
  },
  {
   "cell_type": "code",
   "execution_count": 135,
   "metadata": {},
   "outputs": [
    {
     "data": {
      "image/png": "[encoded data removed]",
      "text/plain": [
       "<Figure size 1500x500 with 4 Axes>"
      ]
     },
     "metadata": {},
     "output_type": "display_data"
    }
   ],
   "source": [
    "#plotting the partial regression plots\n",
    "\n",
    "fig = plt.figure(figsize= (15, 5))\n",
    "\n",
    "sm.graphics.plot_partregress_grid(multiple_model, exog_idx= ['video_views_for_the_last_30_days', \n",
    "                                                             'subscribers_for_last_30_days', 'video_views','subscribers'],\n",
    "                                                             grid= (1,4),\n",
    "                                                             fig=  fig)\n",
    "plt.tight_layout();"
   ]
  },
  {
   "cell_type": "code",
   "execution_count": 136,
   "metadata": {},
   "outputs": [
    {
     "data": {
      "text/plain": [
       "(1.3612833085851508, 0.00032795804234535183)"
      ]
     },
     "execution_count": 136,
     "metadata": {},
     "output_type": "execute_result"
    }
   ],
   "source": [
    "#checking the linearity test with the Rainbow test\n",
    "\n",
    "#H0: There is no significant difference between the subset data and full model; relationship is linear\n",
    "\n",
    "from statsmodels.stats.diagnostic import linear_rainbow\n",
    "\n",
    "linear_rainbow(multiple_model)"
   ]
  },
  {
   "cell_type": "markdown",
   "metadata": {},
   "source": [
    "TO DISCUSS"
   ]
  },
  {
   "cell_type": "markdown",
   "metadata": {},
   "source": [
    "**Normality Assumption**"
   ]
  },
  {
   "cell_type": "code",
   "execution_count": 138,
   "metadata": {},
   "outputs": [
    {
     "data": {
      "image/png": "[encoded data removed]",
      "text/plain": [
       "<Figure size 640x480 with 1 Axes>"
      ]
     },
     "metadata": {},
     "output_type": "display_data"
    }
   ],
   "source": [
    "#Histogram of the model residuals\n",
    "fig, ax = plt.subplots()\n",
    "sns.histplot(multiple_model.resid, bins=20, element=\"step\", kde=True, ax=ax)\n",
    "ax.set_xlabel(\"Model Residuals\")\n",
    "fig.suptitle(\"Histogram of Model Residuals\");"
   ]
  },
  {
   "cell_type": "code",
   "execution_count": 141,
   "metadata": {},
   "outputs": [
    {
     "data": {
      "image/png": "[encoded data removed]",
      "text/plain": [
       "<Figure size 640x480 with 1 Axes>"
      ]
     },
     "metadata": {},
     "output_type": "display_data"
    }
   ],
   "source": [
    "## Q - Q plot\n",
    "fig, ax = plt.subplots()\n",
    "sm.graphics.qqplot(multiple_model.resid, dist=stats.norm, line='45', fit=True, ax=ax)\n",
    "\n",
    "# Customize plot appearance\n",
    "line = ax.lines[1]\n",
    "line.set_color(\"black\")\n",
    "fig.suptitle(\"Q-Q Plot of Model Residuals\");"
   ]
  },
  {
   "cell_type": "code",
   "execution_count": 146,
   "metadata": {},
   "outputs": [
    {
     "data": {
      "image/png": "[encoded data removed]",
      "text/plain": [
       "<Figure size 640x480 with 4 Axes>"
      ]
     },
     "metadata": {},
     "output_type": "display_data"
    }
   ],
   "source": [
    "X.hist()\n",
    "plt.tight_layout();"
   ]
  },
  {
   "cell_type": "markdown",
   "metadata": {},
   "source": [
    "TO DISCUSS"
   ]
  },
  {
   "cell_type": "markdown",
   "metadata": {},
   "source": [
    "**Homoscedaciticity Asumption**"
   ]
  },
  {
   "cell_type": "code",
   "execution_count": 150,
   "metadata": {},
   "outputs": [
    {
     "data": {
      "text/plain": [
       "(600.7827951603182,\n",
       " 1.0490700104045012e-128,\n",
       " 381.88919179061924,\n",
       " 2.5207758145459834e-198)"
      ]
     },
     "execution_count": 150,
     "metadata": {},
     "output_type": "execute_result"
    }
   ],
   "source": [
    "#Conduct Breusch-Pagan Test\n",
    "# pass in the residuals as the first argument and the features (including a constant) as the second argument\n",
    "# H0: homoscedasticity\n",
    "\n",
    "het_breuschpagan(multiple_model.resid, sm.add_constant(X))"
   ]
  },
  {
   "cell_type": "markdown",
   "metadata": {},
   "source": [
    "TO DISCUSS"
   ]
  }
 ],
 "metadata": {
  "kernelspec": {
   "display_name": "learn-env",
   "language": "python",
   "name": "python3"
  },
  "language_info": {
   "codemirror_mode": {
    "name": "ipython",
    "version": 3
   },
   "file_extension": ".py",
   "mimetype": "text/x-python",
   "name": "python",
   "nbconvert_exporter": "python",
   "pygments_lexer": "ipython3",
   "version": "3.10.13"
  }
 },
 "nbformat": 4,
 "nbformat_minor": 2
}
